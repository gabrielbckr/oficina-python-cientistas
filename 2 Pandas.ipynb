{
 "cells": [
  {
   "cell_type": "markdown",
   "metadata": {},
   "source": [
    "# Pandas\n",
    "\n",
    "# Load Data\n",
    "jump \n",
    "\n",
    "# Basic Info\n",
    "hist\n",
    "summary\n",
    "pandas profiling\n",
    "\n",
    "# Select \n",
    "colum element\n",
    "column interva\n",
    "row element\n",
    "row itnerval\n",
    "\n",
    "\n",
    "# Transform\n",
    "\n",
    "# Plot \n",
    "scatter\n",
    "bar\n",
    "boxplot\n",
    "\n",
    "# Export\n",
    "\n",
    "# Further Calcs\n",
    "Scipy"
   ]
  }
 ],
 "metadata": {
  "kernelspec": {
   "display_name": "Python 3",
   "language": "python",
   "name": "python3"
  },
  "language_info": {
   "codemirror_mode": {
    "name": "ipython",
    "version": 3
   },
   "file_extension": ".py",
   "mimetype": "text/x-python",
   "name": "python",
   "nbconvert_exporter": "python",
   "pygments_lexer": "ipython3",
   "version": "3.5.3"
  }
 },
 "nbformat": 4,
 "nbformat_minor": 4
}
