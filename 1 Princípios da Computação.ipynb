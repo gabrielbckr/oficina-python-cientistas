{
 "cells": [
  {
   "cell_type": "markdown",
   "metadata": {},
   "source": [
    "# Variáveis\n",
    "Variáveis são espaços da memória do computador onde guardamos valores. Colocamos um apelido para poder acessar depois. \n",
    "\n",
    "Para colocar um valor numa variavel colcoarmos o nome da variavel, o simbólo = e em seguida o valor \n",
    "\n",
    "Regrinhas:\n",
    " * o simbolo **=** a partir de agora chama recebe\n",
    " * os nomes das variaveis nao podem conter espaços, acentos etc. "
   ]
  },
  {
   "cell_type": "code",
   "execution_count": 3,
   "metadata": {},
   "outputs": [],
   "source": [
    "minha_variável = \"meu conteúdo\""
   ]
  },
  {
   "cell_type": "code",
   "execution_count": 6,
   "metadata": {},
   "outputs": [],
   "source": [
    "meu_numero = 10*3"
   ]
  },
  {
   "cell_type": "code",
   "execution_count": 7,
   "metadata": {},
   "outputs": [
    {
     "name": "stdout",
     "output_type": "stream",
     "text": [
      "30\n"
     ]
    }
   ],
   "source": [
    "print(meu_numero)"
   ]
  },
  {
   "cell_type": "markdown",
   "metadata": {},
   "source": [
    "## Tipos de Variáveis\n",
    "O computador só armazena bits, mas eles podem representar qualquer coisa: números, texto, imagens etc.\\\n",
    "Para podemos usar diferentes dados, existem convenções de como se interpretam os 0s e 1s dos bits para armazenar número, texto etc. \\\n",
    "Por hora, basta entendermos que existem diferentes tipos de variáveis, que correspondem a alguma dessas convenções.\\\n",
    "**Os principais tipos são**: int (números inteiros), flaot (números racionais), string (texto), bool (binário)"
   ]
  },
  {
   "cell_type": "code",
   "execution_count": 10,
   "metadata": {},
   "outputs": [],
   "source": [
    "numero_inteiro = 2"
   ]
  },
  {
   "cell_type": "code",
   "execution_count": 11,
   "metadata": {},
   "outputs": [
    {
     "data": {
      "text/plain": [
       "int"
      ]
     },
     "execution_count": 11,
     "metadata": {},
     "output_type": "execute_result"
    }
   ],
   "source": [
    "type(numero_inteiro)"
   ]
  },
  {
   "cell_type": "markdown",
   "metadata": {},
   "source": [
    "Note que para identificar texto no python, devemos colocá-lo entre aspas (simpels ou duplas)"
   ]
  },
  {
   "cell_type": "code",
   "execution_count": 18,
   "metadata": {},
   "outputs": [],
   "source": [
    "texto = \"textaço\"\n",
    "numero_racional = 2.5\n",
    "booleano = True"
   ]
  },
  {
   "cell_type": "code",
   "execution_count": 19,
   "metadata": {},
   "outputs": [
    {
     "name": "stdout",
     "output_type": "stream",
     "text": [
      "<class 'int'>\n",
      "<class 'str'>\n",
      "<class 'float'>\n",
      "<class 'bool'>\n"
     ]
    }
   ],
   "source": [
    "print(type(numero_inteiro))\n",
    "print(type(texto))\n",
    "print(type(numero_racional))\n",
    "print(type(booleano))"
   ]
  },
  {
   "cell_type": "markdown",
   "metadata": {},
   "source": [
    "# Operadores\n",
    "Podemos fazer transformaçẽos nas variaveis usando operações que são indicadas por operadores.\n",
    "\n",
    "Na matemática é fácil entender.\n",
    "O operador **+** soma, o **\\*** multiplica... \n",
    "\n",
    "Esses são os operadores aritméticos, pois realizam operações matemáticas aritméticas.\n",
    "\n",
    " * +\n",
    " * -\n",
    " * *\n",
    " * /\n",
    " * ** potência  (exemplo 3\\*\\*2 três ao quadrado) \n",
    " * % testo da divisão (exemplo 7%3 cujo resultado é 2)\n",
    " "
   ]
  },
  {
   "cell_type": "code",
   "execution_count": null,
   "metadata": {},
   "outputs": [],
   "source": [
    "# Escreve uns testes aqui:\n",
    "\n",
    "print(   ......    )"
   ]
  },
  {
   "cell_type": "markdown",
   "metadata": {},
   "source": [
    "Existem operações lógicas que se comportam de forma bem distinta. Elas retornam valores booleanos (Verdadeiro ou Falso)\n",
    " * ==   retorna a compração de dois valores \n",
    " * != diferente\n",
    " * \\> maior que\n",
    " * \\< menor que\n",
    " * \\>= maior que\n",
    " * \\<= menor que \n",
    " "
   ]
  },
  {
   "cell_type": "code",
   "execution_count": 21,
   "metadata": {},
   "outputs": [
    {
     "data": {
      "text/plain": [
       "True"
      ]
     },
     "execution_count": 21,
     "metadata": {},
     "output_type": "execute_result"
    }
   ],
   "source": [
    "5>2"
   ]
  },
  {
   "cell_type": "code",
   "execution_count": 23,
   "metadata": {},
   "outputs": [],
   "source": [
    "5==2"
   ]
  },
  {
   "cell_type": "code",
   "execution_count": 25,
   "metadata": {},
   "outputs": [],
   "source": [
    "resultado = 5==2\n",
    "type(resultado)"
   ]
  },
  {
   "cell_type": "markdown",
   "metadata": {},
   "source": [
    "As variaveis e valores booleanos podem ser combinados (i.e. podemos fazer operação com eles)."
   ]
  },
  {
   "cell_type": "code",
   "execution_count": 35,
   "metadata": {},
   "outputs": [
    {
     "data": {
      "text/plain": [
       "False"
      ]
     },
     "execution_count": 35,
     "metadata": {},
     "output_type": "execute_result"
    }
   ],
   "source": [
    "not True"
   ]
  },
  {
   "cell_type": "code",
   "execution_count": 34,
   "metadata": {},
   "outputs": [
    {
     "data": {
      "text/plain": [
       "True"
      ]
     },
     "execution_count": 34,
     "metadata": {},
     "output_type": "execute_result"
    }
   ],
   "source": [
    "not False"
   ]
  },
  {
   "cell_type": "code",
   "execution_count": 41,
   "metadata": {},
   "outputs": [
    {
     "data": {
      "text/plain": [
       "False"
      ]
     },
     "execution_count": 41,
     "metadata": {},
     "output_type": "execute_result"
    }
   ],
   "source": [
    "False and True"
   ]
  },
  {
   "cell_type": "code",
   "execution_count": 42,
   "metadata": {},
   "outputs": [
    {
     "data": {
      "text/plain": [
       "True"
      ]
     },
     "execution_count": 42,
     "metadata": {},
     "output_type": "execute_result"
    }
   ],
   "source": [
    "False or True"
   ]
  },
  {
   "cell_type": "code",
   "execution_count": 43,
   "metadata": {},
   "outputs": [
    {
     "data": {
      "text/plain": [
       "True"
      ]
     },
     "execution_count": 43,
     "metadata": {},
     "output_type": "execute_result"
    }
   ],
   "source": [
    "not False and True"
   ]
  },
  {
   "cell_type": "markdown",
   "metadata": {},
   "source": [
    "Existem sinônimos que você pode encontrar ai:\n",
    "* not -> !\n",
    "* and -> &&\n",
    "* or -> ||"
   ]
  },
  {
   "cell_type": "markdown",
   "metadata": {},
   "source": [
    "# Condicionais\n",
    "Caso você deseje que diferentes linhas de código sejam executadas dependendo de alguma condição, temos que usar extruturas condicionais:"
   ]
  },
  {
   "cell_type": "code",
   "execution_count": 45,
   "metadata": {},
   "outputs": [
    {
     "name": "stdout",
     "output_type": "stream",
     "text": [
      "Codigo dentro da condição\n"
     ]
    }
   ],
   "source": [
    "if True:\n",
    "    print(\"Codigo dentro da condição\")"
   ]
  },
  {
   "cell_type": "code",
   "execution_count": 46,
   "metadata": {},
   "outputs": [],
   "source": [
    "condicao = False\n",
    "if condicao:\n",
    "    print(\"Codigo dentro da condição\")"
   ]
  },
  {
   "cell_type": "markdown",
   "metadata": {},
   "source": [
    "No python, para definir que um código pertence a uma estrutura, nos usamos tab. Ou seja, se o meu codigo começa com tab, significa que ele pertence a uam estrutura acima dele."
   ]
  },
  {
   "cell_type": "code",
   "execution_count": 49,
   "metadata": {},
   "outputs": [
    {
     "name": "stdout",
     "output_type": "stream",
     "text": [
      "Codigo dentro da condição\n",
      "Codigo ainda dentro da condição\n"
     ]
    }
   ],
   "source": [
    "if True:\n",
    "    print(\"Codigo dentro da condição\")\n",
    "    print(\"Codigo ainda dentro da condição\")"
   ]
  },
  {
   "cell_type": "code",
   "execution_count": 50,
   "metadata": {},
   "outputs": [],
   "source": [
    "condicao = False\n",
    "if condicao:\n",
    "    print(\"Codigo dentro da condição\")\n",
    "print(\"Codigo fora da condicao\")"
   ]
  },
  {
   "cell_type": "markdown",
   "metadata": {},
   "source": [
    "Quando queremos adicioanr um comportamento para o caso de a condição não ocorrer, usamos a seguitne estrutura"
   ]
  },
  {
   "cell_type": "code",
   "execution_count": 62,
   "metadata": {},
   "outputs": [],
   "source": [
    "condicao = False\n",
    "if condicao:\n",
    "    print(\"Codigo se a condição é verdadeira\")\n",
    "else:\n",
    "    print(\"Codigo se a condição é falsa\")"
   ]
  },
  {
   "cell_type": "code",
   "execution_count": 62,
   "metadata": {},
   "outputs": [],
   "source": [
    "Ou ainda"
   ]
  },
  {
   "cell_type": "code",
   "execution_count": 65,
   "metadata": {},
   "outputs": [
    {
     "name": "stdout",
     "output_type": "stream",
     "text": [
      "Número é negativo\n"
     ]
    }
   ],
   "source": [
    "numero = -0\n",
    "if numero==1:\n",
    "    print(\"valor é nulo\")\n",
    "elif numero>0:\n",
    "    print(\"Número é positivo\")\n",
    "else:\n",
    "    print(\"Número é negativo\")"
   ]
  },
  {
   "cell_type": "markdown",
   "metadata": {},
   "source": [
    "# Funções\n",
    "Quando fazemos codigos mais complexos, queremos reutilizado em situações similares fazendo pequenas alterações. Usamos funções para isso."
   ]
  },
  {
   "cell_type": "code",
   "execution_count": 51,
   "metadata": {},
   "outputs": [],
   "source": [
    "def nome_da_funcao():\n",
    "    print(\"Codigo da funcao\")"
   ]
  },
  {
   "cell_type": "markdown",
   "metadata": {},
   "source": [
    "A função **nome_da_funcao** foi definida. Mas nenhum codigo dela foi executado. Esse comportamento se deve ao fato de que  por que ela precisa ser chamada para ser executada."
   ]
  },
  {
   "cell_type": "code",
   "execution_count": 53,
   "metadata": {},
   "outputs": [
    {
     "name": "stdout",
     "output_type": "stream",
     "text": [
      "Codigo da funcao\n"
     ]
    }
   ],
   "source": [
    "nome_da_funcao()"
   ]
  },
  {
   "cell_type": "markdown",
   "metadata": {},
   "source": [
    "Podemos inserir argumentos na função para que ela funcione de forma generica. O exemplo mais retardado possível é o seguinte"
   ]
  },
  {
   "cell_type": "code",
   "execution_count": 56,
   "metadata": {},
   "outputs": [],
   "source": [
    "def soma(a, b):\n",
    "    return a+b"
   ]
  },
  {
   "cell_type": "markdown",
   "metadata": {},
   "source": [
    "Essa função soma os valores **a** e **b** e **retorn**a o valor da soma para a parte do código que a chamou."
   ]
  },
  {
   "cell_type": "code",
   "execution_count": 57,
   "metadata": {},
   "outputs": [],
   "source": [
    "soma(1,3)"
   ]
  },
  {
   "cell_type": "markdown",
   "metadata": {},
   "source": [
    "Podemos guardar o resultado de uma função em uma variável"
   ]
  },
  {
   "cell_type": "code",
   "execution_count": 58,
   "metadata": {},
   "outputs": [],
   "source": [
    "resultado = soma(1,3)\n",
    "soma(100, resultado)"
   ]
  },
  {
   "cell_type": "markdown",
   "metadata": {},
   "source": [
    "Repare que temos problemas se tentamos somar coisas distintas"
   ]
  },
  {
   "cell_type": "code",
   "execution_count": 59,
   "metadata": {},
   "outputs": [],
   "source": [
    "soma(\"texto\", 1)"
   ]
  },
  {
   "cell_type": "markdown",
   "metadata": {},
   "source": [
    "O motivo disso acontecer é que a função faz algumas suposições e uma delas é que você esta usamdo os tipos de dados corretos. Muitos dos problemas e erros que vocês encontrarão no python serão relacionados a tipos de dados."
   ]
  },
  {
   "cell_type": "markdown",
   "metadata": {},
   "source": [
    "Uma função mais útil para o aprendizado é a seguinte:"
   ]
  },
  {
   "cell_type": "code",
   "execution_count": 61,
   "metadata": {},
   "outputs": [],
   "source": [
    "def qual_o_mais_velho(nome_1, idade_1, nome_2, idade_2):\n",
    "    if(idade_1 > idade_2):\n",
    "        return nome_1\n",
    "    else:\n",
    "        return nome_2"
   ]
  },
  {
   "cell_type": "markdown",
   "metadata": {},
   "source": [
    "qual_o_mais_velho ..... "
   ]
  },
  {
   "cell_type": "markdown",
   "metadata": {},
   "source": []
  },
  {
   "cell_type": "markdown",
   "metadata": {},
   "source": [
    "`type` e `print` são exemplos de funções"
   ]
  },
  {
   "cell_type": "markdown",
   "metadata": {},
   "source": [
    "# Arrays\n",
    "Boa parte dos dados que utilizados precisam ser organizados como uma sequencia. Por exemplo, para fazer calculos com as notas de alunis de uma determinada sala de aula, seria inconveniente usarmos uma variável para cada aluno."
   ]
  },
  {
   "cell_type": "code",
   "execution_count": 1,
   "metadata": {},
   "outputs": [
    {
     "data": {
      "text/plain": [
       "2.7"
      ]
     },
     "execution_count": 1,
     "metadata": {},
     "output_type": "execute_result"
    }
   ],
   "source": [
    "alun_1 = 0.7\n",
    "alun_2 = 1\n",
    "alun_3 = 1\n",
    "(alun_1+alun_2+alun_3)"
   ]
  },
  {
   "cell_type": "markdown",
   "metadata": {},
   "source": [
    "É muito mais conviente utilizar uma unica variável que armazena multiplos valores. Existe vários tipos de variáveis capazes de fazer isso, sendo a mais comum a variável do tipo lista\n",
    "\n",
    "Uma lista pode ser declarada da seguinte forma \n",
    "```python\n",
    "lista de valores = [ ] \n",
    "```\n",
    "\n",
    "e pode ser inicializada com vários valores separados por **\\,**\n",
    "```python\n",
    "lista de valores = [ 0, 1, 2 ,3 ,4] \n",
    "```\n",
    "\n",
    "e nem mesmo rpecisam ser do mesmo tipo\n",
    "```python\n",
    "lista de valores = [ 0, \"1\", \"dois\" ,3 ,\"coatro\"] \n",
    "```\n",
    "apesar de isso não ser uam boa prática."
   ]
  },
  {
   "cell_type": "code",
   "execution_count": 5,
   "metadata": {},
   "outputs": [],
   "source": [
    "notas = [alun_1, alun_2, alun_3]"
   ]
  },
  {
   "cell_type": "code",
   "execution_count": 6,
   "metadata": {},
   "outputs": [],
   "source": [
    "notas"
   ]
  },
  {
   "cell_type": "markdown",
   "metadata": {},
   "source": [
    "Podemos acessar os valores da lista usando indexagem muito simples com a seguitne sintaqze `lista[indice_desejado]`"
   ]
  },
  {
   "cell_type": "code",
   "execution_count": 8,
   "metadata": {},
   "outputs": [],
   "source": [
    "notas[2]"
   ]
  },
  {
   "cell_type": "markdown",
   "metadata": {},
   "source": [
    "Uma coida a ser observada é que a indexação é inicializada do 0. Ou seja, o primeiro ítem de uma lista está na posição 0, o segundo na posição 1 etc... \n",
    "\n",
    "Por esse motivo, não é possível acessar o ítem na posição 3 da lista"
   ]
  },
  {
   "cell_type": "code",
   "execution_count": 9,
   "metadata": {},
   "outputs": [],
   "source": [
    "notas[3]"
   ]
  },
  {
   "cell_type": "markdown",
   "metadata": {},
   "source": [
    "Podemos acesar o último valor usando o índice -1 "
   ]
  },
  {
   "cell_type": "markdown",
   "metadata": {},
   "source": [
    "e podemos acessar um pedaço dos ítens usando slicing com a seguitne sintaxe\n",
    "\n",
    "* definindo o inicio e o fim `lista[inicio_do_pedaco:fim_do_pedaco]`\n",
    "* definindo o inicio e pegando todo o resto `lista[inicio_do_pedaco:]`\n",
    "* definindo o fim e pegando tudo anterior `lista[:fim_do_pedaco]`"
   ]
  },
  {
   "cell_type": "markdown",
   "metadata": {},
   "source": [
    "# Módulos/Bibliotecas\n",
    "Existem muitos projetos com códigos prontos na internet que podemos usar no nosso próprio script. Esses códigos são organizados em pacotes/módulos (a diferença é irrelevante por hora) e podemos instalar de vários formas, mas a melhor forma é usando o `pip`, o python pckage installer\n",
    "\n",
    "* No jupyter: `!pip install nome_do_pacote`\n",
    "* No cmd: `pip install nome_do_pacote`\n",
    "\n",
    "Existe o conda (da anaconda), e algumas pessoas prefer usa-lo.\n",
    "\n",
    "\n",
    "\n",
    "### Principais pacote\n",
    "* **Numpy**: Pacote usado para realizar calculo numreicos com matrizes e tals\n",
    "* **Pandas**: Pacote utilziado para manipular tabelas, ler arquivos excel etc\n",
    "* **Matplotlib**: pacote utilizado para plotar gráficos\n",
    "* **Scipy**: pacote para realizar cálculos mais complexos de algebra linear e estatística, feito especialmente para cientistas"
   ]
  }
 ],
 "metadata": {
  "kernelspec": {
   "display_name": "Python 3",
   "language": "python",
   "name": "python3"
  },
  "language_info": {
   "codemirror_mode": {
    "name": "ipython",
    "version": 3
   },
   "file_extension": ".py",
   "mimetype": "text/x-python",
   "name": "python",
   "nbconvert_exporter": "python",
   "pygments_lexer": "ipython3",
   "version": "3.7.3"
  }
 },
 "nbformat": 4,
 "nbformat_minor": 4
}
