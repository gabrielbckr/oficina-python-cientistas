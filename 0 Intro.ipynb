{
 "cells": [
  {
   "cell_type": "markdown",
   "metadata": {},
   "source": [
    "# Python\n",
    "\n",
    "## Ajuda para Instalar\n",
    "\n",
    "## Anaconda\n",
    "Gerenciador de ferramentas para galera que não é ead computação\n",
    "\n",
    "## Jupyter\n",
    "Editor no browser pra facltiar a vida: código junto com o texto, exporta pra pdf ou scripts\n",
    "\n",
    "## Pip\n",
    "Instalador de bibliotecas\n",
    "\n",
    "## Script\n",
    "Você pode criar arquivos .py\n",
    "'\n",
    "python -m meu_script.py\n",
    "'\n",
    "\n",
    "## Outras IDEs\n",
    " * python\n",
    " * collab\n",
    " * azure\n",
    " * spider\n",
    " * pycharm\n",
    " * code\n",
    " * ipython\n",
    "\n",
    "## Science Stack\n",
    "\n",
    "![test](https://image.slidesharecdn.com/strata-nyc-dask-2017-ppt-170927181810/95/dask-scaling-python-7-638.jpg?cb=1506537588)\n",
    "\n",
    " * Numpy: calculo\n",
    " * Pandas: trabalahr com tabelas, filtrar dados\n",
    " * Scipy: algebra linear, estatística -> contas para cientistas\n",
    " * stasts models: cálculo para estatísticos"
   ]
  }
 ],
 "metadata": {
  "kernelspec": {
   "display_name": "Python 3",
   "language": "python",
   "name": "python3"
  },
  "language_info": {
   "codemirror_mode": {
    "name": "ipython",
    "version": 3
   },
   "file_extension": ".py",
   "mimetype": "text/x-python",
   "name": "python",
   "nbconvert_exporter": "python",
   "pygments_lexer": "ipython3",
   "version": "3.7.3"
  }
 },
 "nbformat": 4,
 "nbformat_minor": 4
}
